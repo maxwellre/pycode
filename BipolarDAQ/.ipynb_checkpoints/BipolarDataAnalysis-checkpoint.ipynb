{
 "cells": [
  {
   "cell_type": "code",
   "execution_count": 33,
   "id": "b599e98a",
   "metadata": {},
   "outputs": [
    {
     "name": "stdout",
     "output_type": "stream",
     "text": [
      ".\tmp\n",
      "Calibration line a = 0.0497649079931161, b = 0.1217075926746309\n"
     ]
    }
   ],
   "source": [
    "'''\n",
    "Pressure measurement of electrohydraulic pump\n",
    "'''\n",
    "\n",
    "import time\n",
    "from os import walk\n",
    "import os.path as ospa\n",
    "import numpy as np\n",
    "import re\n",
    "import matplotlib.pyplot as plt\n",
    "import pandas as pd\n",
    "\n",
    "# %matplotlib notebook\n",
    "# %matplotlib notebook\n",
    "plt.rcParams.update({'font.size': 14})\n",
    "\n",
    "Fs = 1000\n",
    "\n",
    "# dataPath = \".\\Data0908 Sealed with Hot Glue\"\n",
    "# dataPath = \".\\Data0923 Tube8mm\"\n",
    "# dataPath = \".\\Data0924 OfficialMeasurement\"\n",
    "# dataPath = \".\\Data1008 PressureMeasureOf1007\"\n",
    "# dataPath = \".\\Data0228Valid\"\n",
    "# dataPath = \".\\Data0302\"\n",
    "dataPath = \".\\Datatmp\"\n",
    "\n",
    "calib = np.loadtxt('Calibration20210802.txt')\n",
    "print(\"Calibration line a = %.16f, b = %.16f\" % (calib[0],calib[1]))"
   ]
  },
  {
   "cell_type": "code",
   "execution_count": 28,
   "id": "2d011323",
   "metadata": {},
   "outputs": [],
   "source": [
    "'''\n",
    "General Functions\n",
    "'''\n",
    "\n",
    "def aPlot(figName, is3D = False):\n",
    "    ax = []\n",
    "    \n",
    "    fig1 = plt.figure(figsize = (14,4))\n",
    "    fig1.suptitle(figName, fontsize=16)\n",
    "    if(is3D):\n",
    "        ax = fig1.add_subplot(111, projection='3d')\n",
    "    else:\n",
    "        ax = fig1.add_subplot(111)\n",
    "        \n",
    "    return ax"
   ]
  },
  {
   "cell_type": "code",
   "execution_count": 32,
   "id": "644a7e21",
   "metadata": {
    "scrolled": true
   },
   "outputs": [
    {
     "data": {
      "image/png": "[encoded data removed]",
      "text/plain": [
       "<Figure size 1008x288 with 1 Axes>"
      ]
     },
     "metadata": {
      "needs_background": "light"
     },
     "output_type": "display_data"
    }
   ],
   "source": [
    "'''\n",
    "Import data from csv files\n",
    "'''\n",
    "\n",
    "ax = aPlot('All Measurements')\n",
    "\n",
    "start_ind = ((np.array([1]) - 0.1) * Fs).astype(int)\n",
    "end_ind = ((np.array([6]) + 0.1) * Fs).astype(int)\n",
    "\n",
    "presData = []\n",
    "for root, directories, files in walk(dataPath):\n",
    "    for fileName in files:\n",
    "        condi = re.split('_|\\.csv', fileName)[3:5]\n",
    "        names = condi[0]\n",
    "        \n",
    "        trialNum = int(re.split('t', condi[1])[-1])\n",
    "        \n",
    "        data = np.genfromtxt(ospa.join(root, fileName), delimiter=',') \n",
    "        \n",
    "        if dataPath == \".\\Data0228Valid\" or dataPath == \".\\Data0302\" or dataPath == \".\\Datatmp\":\n",
    "            data[:,1] = data[:,2]\n",
    "        else:\n",
    "            data = data[start_ind[0]:end_ind[0],:]\n",
    "                \n",
    "        dataLen = len(data[:,0])\n",
    "        \n",
    "        ax.plot(np.arange(dataLen)/Fs, (data[:,1]-calib[1])*calib[0], color = 'k')       \n",
    "        \n",
    "        meanVoltage = np.mean(data[int(dataLen/2):,1]) - data[0,1]     \n",
    "        meanPressure = (meanVoltage-calib[1])*calib[0]\n",
    "        \n",
    "        maxVoltage = np.max(data[:,1]) - np.min(data[:,1]);\n",
    "        maxPressure = maxVoltage*calib[0]\n",
    "        \n",
    "        print(\"%s - Condition: \" % root)\n",
    "        print(names)\n",
    "        print(\"trial%02d, mean-pres. = %.3f bar, max-pres. = %.3f bar (length = %d)\" % \n",
    "              (trialNum, meanPressure, maxPressure, dataLen))\n",
    "\n",
    "#######         if(trialNum > 0 and trialNum < 6):\n",
    "        presData.append([names, trialNum, meanPressure, maxPressure])\n",
    "        \n",
    "ax.set_xlabel('Time (sec)')\n",
    "ax.set_ylabel('Pressure (bar)')\n",
    "        \n",
    "presData = pd.DataFrame(presData, columns = ['Condition','Trial','MeanPressure','MaxPressure'])\n"
   ]
  },
  {
   "cell_type": "code",
   "execution_count": null,
   "id": "b42780db",
   "metadata": {},
   "outputs": [],
   "source": [
    "################## presData = pd.read_csv('MergedProsssed0719and0728.csv'); presData.head()"
   ]
  },
  {
   "cell_type": "code",
   "execution_count": null,
   "id": "a7ee9aa0",
   "metadata": {},
   "outputs": [],
   "source": [
    "condiNames = pd.unique(presData['Condition'])\n",
    "condiNum = len(condiNames)\n",
    "print(\"In total %d conditions: %s\" % (condiNum, condiNames))\n",
    "\n",
    "################## condiNames = condiNames[[4,5,0,1,2,3,7,8,15,16,9,11,12,10,6,13,14]]"
   ]
  },
  {
   "cell_type": "code",
   "execution_count": null,
   "id": "999eeb50",
   "metadata": {},
   "outputs": [],
   "source": [
    "# Display selected conditions only\n",
    "condiNames = condiNames[[1,0,4,3]]\n",
    "condiNum = len(condiNames); print(\"In total %d conditions: %s\" % (condiNum, condiNames))"
   ]
  },
  {
   "cell_type": "code",
   "execution_count": null,
   "id": "94b0a965",
   "metadata": {},
   "outputs": [],
   "source": [
    "# select_ind = (presData['Trial'] > 0) & (presData['Trial'] < 6) \n",
    "select_ind = (presData['Trial'] > 0)\n",
    "# for condi in condiNames:\n",
    "#     condiAvgMax = np.mean(presData.loc[(presData['Condition'] == condi) & select_ind, 'MaxPressure'])\n",
    "#     print(\"%s - avg. max pressure = %.3f bar\" % (condi, condiAvgMax))\n",
    "# print(\"-------------------------------------\")\n",
    "\n",
    "for condi in condiNames:\n",
    "    condiMaxMax = np.max(presData.loc[presData['Condition'] == condi, 'MaxPressure'])\n",
    "    print(\"%s - max pressure = %.3f bar\" % (condi, condiMaxMax))"
   ]
  },
  {
   "cell_type": "code",
   "execution_count": null,
   "id": "a2d1924e",
   "metadata": {},
   "outputs": [],
   "source": [
    "# select_ind = (presData['Trial'] > 0) & (presData['Trial'] < 6) \n",
    "select_ind = (presData['Trial'] > 0)\n",
    "\n",
    "ax = aPlot('Maximum Pressure Increased')\n",
    "for i in range(condiNum):\n",
    "    temp = presData.loc[(presData['Condition'] == condiNames[i]) & select_ind, 'MaxPressure'] * 100\n",
    "    ax.scatter(i*np.ones(temp.size), temp, linewidths = 5)\n",
    "ax.set_xticks(range(condiNum))\n",
    "ax.set_xticklabels(condiNames, rotation=30)\n",
    "ax.set_xlabel('Conditions')\n",
    "# ax.set_ylabel('Pressure (bar)')\n",
    "ax.set_ylabel('Pressure (kPa)')\n",
    "plt.show()"
   ]
  },
  {
   "cell_type": "code",
   "execution_count": null,
   "id": "3d79826b",
   "metadata": {},
   "outputs": [],
   "source": [
    "# ax = aPlot('Mean Pressure (over the last 2.5-second duration)')\n",
    "# for i in range(condiNum):\n",
    "#     temp = presData.loc[presData['Condition'] == condiNames[i], 'MeanPressure']\n",
    "#     ax.scatter(i*np.ones(temp.size), temp, linewidths = 5)\n",
    "# ax.set_xticks(range(condiNum))\n",
    "# ax.set_xticklabels(condiNames, rotation=30)\n",
    "# ax.set_xlabel('Conditions')\n",
    "# ax.set_ylabel('Pressure (bar)')\n",
    "# plt.show()"
   ]
  },
  {
   "cell_type": "code",
   "execution_count": null,
   "id": "afa7d8f5",
   "metadata": {},
   "outputs": [],
   "source": [
    "############# presData0719 = presData\n",
    "############# condiNames0719 = condiNames\n",
    "############# presData = np.concatenate((presData0719, presData), axis = 0)\n",
    "############# condiNames = np.concatenate((condiNames0719, condiNames), axis = 0)\n",
    "############# np.savetxt(\"MergedProsssed0719and0728.csv\", presData, fmt = '%s,%d,%.16f,%.16f', \n",
    "#############            header = 'Condition,Trial,MeanPressure,MaxPressure', comments='')\n",
    "############# np.savetxt(\"MergedProsssed0719and0728_CondiNames.csv\", condiNames, fmt = '%s')"
   ]
  }
 ],
 "metadata": {
  "kernelspec": {
   "display_name": "Python 3",
   "language": "python",
   "name": "python3"
  },
  "language_info": {
   "codemirror_mode": {
    "name": "ipython",
    "version": 3
   },
   "file_extension": ".py",
   "mimetype": "text/x-python",
   "name": "python",
   "nbconvert_exporter": "python",
   "pygments_lexer": "ipython3",
   "version": "3.6.8"
  }
 },
 "nbformat": 4,
 "nbformat_minor": 5
}
