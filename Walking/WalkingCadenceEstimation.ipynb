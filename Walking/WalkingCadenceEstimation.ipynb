{
 "cells": [
  {
   "cell_type": "code",
   "execution_count": null,
   "id": "5060c4f7",
   "metadata": {},
   "outputs": [],
   "source": [
    "import pandas as pd\n",
    "import matplotlib.pyplot as plt\n",
    "import numpy as np\n",
    "import numpy.fft as fft\n",
    "from scipy.interpolate import interp1d\n",
    "\n",
    "%matplotlib notebook\n",
    "%matplotlib notebook\n",
    "\n",
    "\n",
    "# 单位转化\n",
    "GSCALE = 0.001952  # 1.952 mg/digit (±16 g in High-Performance Mode)\n",
    "accData = np.genfromtxt('./walk1/csv0.csv', delimiter=\",\")\n",
    "S = accData[1:,2]\n",
    "# = pd.read_csv(\"./walk1/csv0.csv\", usecols=[2])  # 取z轴数据\n",
    "\n",
    "Fs = 1600  # 采样率指定1600\n",
    "t = np.arange(S.shape[0]) / Fs\n",
    "T = 1 / Fs  # 采样周期\n",
    "L = 16000  # 信号长度\n",
    "\n",
    "# 使用汉宁窗函数\n",
    "window = np.hanning(len(S))\n",
    "y_windowed = accData[1:, 2] * window\n",
    "\n",
    "complex_array = fft.fft(S)\n",
    "# 得到分解波的频率序列\n",
    "freqs = fft.fftfreq(t.size, 1/Fs)\n",
    "# data = pd.DataFrame(freqs)\n",
    "# data.to_csv('freq1.csv')\n",
    "# 复数的模为信号的振幅(能量大小)\n",
    "amp = np.abs(complex_array)\n",
    "\n",
    "# 线性插值，精度已经达到要求，不需要进行插值\n",
    "# freq_new = np.linspace(-800, 799.99, num=160000)\n",
    "# amp1 = pd.DataFrame(amp)\n",
    "# f1 = interp1d(freqs, amp1, kind='linear')\n",
    "# amp_new = f1(freq_new)\n",
    "\n",
    "\n",
    "plt.rcParams['font.sans-serif'] = ['SimHei']  # 用来正常显示中文标签\n",
    "plt.rcParams['axes.unicode_minus'] = False  # 用来正常显示符号\n",
    "\n",
    "plt.subplot(211)\n",
    "plt.title('加速度计z轴数据')\n",
    "plt.xlabel('Time （s）')\n",
    "plt.ylabel('Acc (g)')\n",
    "plt.tick_params(labelsize=10)\n",
    "plt.grid(linestyle=':')\n",
    "plt.plot(t, S[:] * GSCALE, label='ACC')\n",
    "plt.legend()\n",
    "\n",
    "\n",
    "plt.subplot(212)\n",
    "plt.title('FFT变换,频谱图')\n",
    "plt.xlabel('Frequency 频率')\n",
    "plt.ylabel('Amplitude 振幅')\n",
    "plt.tick_params(labelsize=10)\n",
    "plt.grid(linestyle=':')\n",
    "ind = (freqs > 0) & (freqs <= 3)\n",
    "plt.plot(freqs[ind], amp[ind], c='orangered', label='Frequency')\n",
    "plt.legend()\n",
    "plt.tight_layout()\n",
    "plt.show()"
   ]
  },
  {
   "cell_type": "code",
   "execution_count": null,
   "id": "8a1077b0",
   "metadata": {},
   "outputs": [],
   "source": [
    "fig,ax = plt.subplots(1,1,figsize=(14, 5))\n",
    "spec, freq, _ = ax.magnitude_spectrum(S, Fs);\n",
    "ax.set_xlim([0.1, 3])\n",
    "ax.set_ylim([0, 25])"
   ]
  },
  {
   "cell_type": "code",
   "execution_count": null,
   "id": "f3091239",
   "metadata": {},
   "outputs": [],
   "source": []
  }
 ],
 "metadata": {
  "kernelspec": {
   "display_name": "py310",
   "language": "python",
   "name": "py310"
  },
  "language_info": {
   "codemirror_mode": {
    "name": "ipython",
    "version": 3
   },
   "file_extension": ".py",
   "mimetype": "text/x-python",
   "name": "python",
   "nbconvert_exporter": "python",
   "pygments_lexer": "ipython3",
   "version": "3.10.13"
  }
 },
 "nbformat": 4,
 "nbformat_minor": 5
}
