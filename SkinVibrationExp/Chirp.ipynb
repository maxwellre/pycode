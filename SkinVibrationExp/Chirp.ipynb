{
 "cells": [
  {
   "cell_type": "code",
   "execution_count": null,
   "id": "0e201e3c",
   "metadata": {},
   "outputs": [],
   "source": [
    "'''\n",
    "Generate sinusoidal vibration stimuli with continuously increasing frequencies\n",
    "Output via sound card\n",
    "Created on 2024.08.30 by Yitian Shao (shaoyitian@hit.edu.cn)\n",
    "'''\n",
    "\n",
    "# Import packages\n",
    "import time\n",
    "from os import walk\n",
    "import os.path as ospa\n",
    "import numpy as np\n",
    "import re\n",
    "import matplotlib.pyplot as plt\n",
    "import pandas as pd\n",
    "import scipy.io as scio\n",
    "from scipy import signal\n",
    "import seaborn as sns\n",
    "import IPython.display as ipd\n",
    "from IPython.core.display import HTML\n",
    "\n",
    "\n",
    "''' \n",
    "General Settings\n",
    "'''\n",
    "AudioFs = 44100 # (Hz) Must match the sampling frequency of the audio output\n",
    "\n",
    "'''\n",
    "General Functions\n",
    "'''\n",
    "def aPlot(figName='', figsize=(14, 6), is3D=False, dpi=72):\n",
    "    ax = []\n",
    "    \n",
    "    fig1 = plt.figure(figsize=figsize, dpi=dpi)\n",
    "    \n",
    "    fig1.suptitle(figName, fontsize=16)\n",
    "    if (is3D):\n",
    "        ax = fig1.add_subplot(111, projection='3d')\n",
    "    else:\n",
    "        ax = fig1.add_subplot(111)\n",
    "        \n",
    "    return ax, fig1\n",
    "\n",
    "def plot_spectrogram(title, w, fs):\n",
    "\n",
    "    ff, tt, Sxx = signal.spectrogram(w, fs=fs, nperseg=256, nfft=576)\n",
    "\n",
    "    fig, ax = plt.subplots()\n",
    "\n",
    "    ax.pcolormesh(tt, ff[:145], Sxx[:145], cmap='gray_r',\n",
    "\n",
    "                  shading='gouraud')\n",
    "\n",
    "    ax.set_title(title)\n",
    "\n",
    "    ax.set_xlabel('t (sec)')\n",
    "\n",
    "    ax.set_ylabel('Frequency (Hz)')\n",
    "\n",
    "    ax.grid(True)"
   ]
  },
  {
   "cell_type": "code",
   "execution_count": null,
   "id": "a6804ae2",
   "metadata": {},
   "outputs": [],
   "source": [
    "tDuration = 10\n",
    "t = np.arange(int(tDuration * AudioFs)) / AudioFs\n",
    "outputSignal = signal.chirp(t, f0=20, f1=1000, t1=tDuration, method='quadratic')\n",
    "\n",
    "plt.plot(t, outputSignal)\n",
    "plt.title(\"Chirp\")\n",
    "plt.xlabel('t (sec)')\n",
    "\n",
    "plot_spectrogram('Chirp', outputSignal, AudioFs)\n",
    "\n",
    "plt.show()"
   ]
  },
  {
   "cell_type": "code",
   "execution_count": null,
   "id": "d443b31b",
   "metadata": {},
   "outputs": [],
   "source": [
    "''' Play the output signal via sound card [Important: Check and ensure the correct amplifier settings!]'''\n",
    "ipd.Audio(outputSignal,rate=AudioFs)"
   ]
  },
  {
   "cell_type": "code",
   "execution_count": null,
   "id": "ee184896",
   "metadata": {},
   "outputs": [],
   "source": []
  }
 ],
 "metadata": {
  "kernelspec": {
   "display_name": "py310",
   "language": "python",
   "name": "py310"
  },
  "language_info": {
   "codemirror_mode": {
    "name": "ipython",
    "version": 3
   },
   "file_extension": ".py",
   "mimetype": "text/x-python",
   "name": "python",
   "nbconvert_exporter": "python",
   "pygments_lexer": "ipython3",
   "version": "3.10.13"
  }
 },
 "nbformat": 4,
 "nbformat_minor": 5
}
