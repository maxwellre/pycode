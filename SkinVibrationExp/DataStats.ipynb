{
 "cells": [
  {
   "cell_type": "code",
   "execution_count": null,
   "id": "04c56744",
   "metadata": {},
   "outputs": [],
   "source": [
    "import time\n",
    "from os import walk\n",
    "import os.path as ospa\n",
    "import numpy as np\n",
    "import re\n",
    "import matplotlib.pyplot as plt\n",
    "from matplotlib import mlab\n",
    "import pandas as pd\n",
    "import scipy.io as scio\n",
    "from scipy import signal\n",
    "from scipy import stats\n",
    "\n",
    "''' Figure format'''\n",
    "plt.rc('font', size=16, family='Verdana') # 'Tahoma', 'DejaVu Sans', 'Verdana'\"\n",
    "plt.rc('axes', edgecolor='k', linewidth=0.75, labelcolor='k')\n",
    "plt.rc('axes.spines', **{'bottom':True, 'left':True, 'right':True, 'top':True})\n",
    "plt.rcParams['xtick.top'] = True\n",
    "plt.rcParams['xtick.bottom'] = True\n",
    "plt.rcParams['ytick.left'] = True\n",
    "plt.rcParams['ytick.right'] = True\n",
    "plt.rcParams['xtick.direction'] = 'in'\n",
    "plt.rcParams['ytick.direction'] = 'in'\n",
    "plt.rcParams['errorbar.capsize'] = 4\n"
   ]
  },
  {
   "cell_type": "code",
   "execution_count": null,
   "id": "922cffca",
   "metadata": {},
   "outputs": [],
   "source": [
    "data = pd.read_csv(\"dataoutput.csv\")\n",
    "data"
   ]
  },
  {
   "cell_type": "code",
   "execution_count": null,
   "id": "4209f099",
   "metadata": {
    "scrolled": false
   },
   "outputs": [],
   "source": [
    "for i in range(7):\n",
    "    group1 = np.array([float(x) for x in (data[\"Group1(50 cst 0.1 ml)\"][i][1:-1].split())])\n",
    "    group2 = np.array([float(x) for x in (data[\"Group2(2cst 0.1 ml)\"][i][1:-1].split())])\n",
    "    group3 = np.array([float(x) for x in (data[\"Group3 (2cst 0.2ml)\"][i][1:-1].split())])\n",
    "    _,ax = plt.subplots(1,1, figsize=(12, 5))\n",
    "    violinplot = ax.violinplot([group1, group2, group3]) \n",
    "    print(\"group1 vs group2\"); print(stats.ranksums(group1, group2))\n",
    "    print(\"group2 vs group3\"); print(stats.ranksums(group2, group3))\n",
    "    print(\"\\n\")"
   ]
  },
  {
   "cell_type": "code",
   "execution_count": null,
   "id": "607f83bd",
   "metadata": {},
   "outputs": [],
   "source": []
  }
 ],
 "metadata": {
  "kernelspec": {
   "display_name": "Python 3 (ipykernel)",
   "language": "python",
   "name": "python3"
  },
  "language_info": {
   "codemirror_mode": {
    "name": "ipython",
    "version": 3
   },
   "file_extension": ".py",
   "mimetype": "text/x-python",
   "name": "python",
   "nbconvert_exporter": "python",
   "pygments_lexer": "ipython3",
   "version": "3.11.3"
  }
 },
 "nbformat": 4,
 "nbformat_minor": 5
}
