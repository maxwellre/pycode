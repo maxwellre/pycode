{
 "cells": [
  {
   "cell_type": "code",
   "execution_count": 1,
   "id": "69814ed5",
   "metadata": {},
   "outputs": [
    {
     "name": "stdout",
     "output_type": "stream",
     "text": [
      "c shared library imported successfully!\n"
     ]
    }
   ],
   "source": [
    "'''\n",
    "Program to analyze pouch model parameters\n",
    "Unit: mm\n",
    "Author: Yitian Shao\n",
    "Created on 2022.01.13\n",
    "'''\n",
    "%matplotlib notebook \n",
    "%matplotlib notebook \n",
    "\n",
    "import sys\n",
    "import time\n",
    "import csv\n",
    "import matplotlib.pyplot as plt\n",
    "from mpl_toolkits.mplot3d import Axes3D\n",
    "\n",
    "from PouchLib import * # This library will import numpy as np"
   ]
  },
  {
   "cell_type": "code",
   "execution_count": 2,
   "id": "8132cd26",
   "metadata": {},
   "outputs": [],
   "source": [
    "sys.stdout = open(1, 'w') # Print to terminal instead of the cell\n",
    "time0 = time.time()\n",
    "meshDensity = 1000 # For visualization resolution\n",
    "intStepSize = 0.001 # (mm) Step size for performing integral computation\n",
    "\n",
    "shellThickness = 0.020 # (mm) Denoted as 'l_s' in publication\n",
    "epsilon_s = 2.0 # Relative permittivity of the shell\n",
    "epsilon_f = 3.2 # Relative permittivity of the fluid\n",
    "\n",
    "dashHalfDist = 5 # Denoted as 'n' in publication\n",
    "dashLength = 16 # Denoted as 'w' in publication\n",
    "dashSpace = 8.660254 # Denoted as 's+f' in publication\n",
    "\n",
    "RRange = np.logspace(np.log10(dashSpace), np.log10(5000), 100)\n",
    "R = 50\n",
    "\n",
    "# with open('EquilatPouchData.csv','w', newline='') as csvFile:\n",
    "#     writer = csv.writer(csvFile)\n",
    "#     writer.writerow(('m', 'c', 'R', 'triArc', 'triFA', 'triPSA', 'triVol', 'rectVol', 'triTF', 'rectTF', 'w'))\n",
    "# Triangle Pouch ---------------------------------------------------------------------  \n",
    "triPouch0 = TrianglePouch(R, dashSpace, dashHalfDist, meshDensity)\n",
    "print(\"\\n\\n[%.0f s] Case: Dash Half Dist = %.2f mm, Dash Space = %.2f mm, R = %.2f mm, dashLength = %.2f mm\" % \n",
    "      (time.time()-time0, dashHalfDist, dashSpace, R, dashLength))\n",
    "triPouch0.printInfo()\n",
    "\n",
    "triVol = triPouch0.getVolume(intStepSize)\n",
    "print(\"Volume of the triangle pouch V = %.3f mm3\" % (triVol)) \n",
    "\n",
    "triCapa = triPouch0.getCapacitance(shellThickness, epsilon_s, epsilon_f, intStepSize)\n",
    "print(\"Total Capacitance of the triangle pouch = %.3f N\" % (triCapa))\n",
    "\n",
    "# writer.writerow([triPouch0.m, triPouch0.c, triPouch0.R, triArc, triFA, triPSA, triVol, rectVol, \n",
    "#                              triTF, rectTF, rectPouch0.w])"
   ]
  },
  {
   "cell_type": "code",
   "execution_count": null,
   "id": "aff95657",
   "metadata": {},
   "outputs": [],
   "source": []
  }
 ],
 "metadata": {
  "kernelspec": {
   "display_name": "Python 3",
   "language": "python",
   "name": "python3"
  },
  "language_info": {
   "codemirror_mode": {
    "name": "ipython",
    "version": 3
   },
   "file_extension": ".py",
   "mimetype": "text/x-python",
   "name": "python",
   "nbconvert_exporter": "python",
   "pygments_lexer": "ipython3",
   "version": "3.6.8"
  }
 },
 "nbformat": 4,
 "nbformat_minor": 5
}
