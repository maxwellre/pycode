{
 "cells": [
  {
   "cell_type": "code",
   "execution_count": null,
   "id": "9f908a9a",
   "metadata": {},
   "outputs": [],
   "source": [
    "''' \n",
    "Design Analysis \n",
    "Unit: mm\n",
    "Author: Yitian Shao\n",
    "Created on 2022.01.27\n",
    "'''\n",
    "\n",
    "import sys\n",
    "import time\n",
    "import numpy as np\n",
    "import matplotlib.pyplot as plt\n",
    "import pandas as pd\n",
    "\n",
    "plt.rcParams.update({'font.size': 14})\n",
    "\n",
    "from PouchLib import * \n",
    "\n",
    "try:\n",
    "    EPSILON0 = getEpsilon0() # (Farad/m) Free-space permittivity\n",
    "except:\n",
    "    EPSILON0 = 0.0000000000088541878128"
   ]
  },
  {
   "cell_type": "code",
   "execution_count": null,
   "id": "8fbee1a6",
   "metadata": {},
   "outputs": [],
   "source": [
    "'''\n",
    "General Functions\n",
    "'''\n",
    "\n",
    "def stateEnergy(U, zipTriNum, zipRectNum, deltaTriCapa, deltaRectCapa, deltaTriVol, deltaRectVol):\n",
    "    # 'U' - Voltage applied, '*Capa' - Capacitance, '*Vol' - Volume of fluid\n",
    "    \n",
    "    deltaC = zipTriNum * deltaTriCapa+ zipRectNum * deltaRectCapa\n",
    "    deltaEs = 0.5 * U*U * deltaC # Unit: Joule\n",
    "    \n",
    "    deltaVol = (zipTriNum * deltaTriVol + zipRectNum * deltaRectVol) * 1e-9 # (Unit: mm3 to m3) Volume of the entire pouch \n",
    "    \n",
    "    avgPressure = deltaEs / deltaVol # (Pa)\n",
    "    \n",
    "    print(\"avgP = %.1fkPa, deltaV = %.1f mL\" % (avgPressure*1e-3, deltaVol*1e6))\n",
    "    \n",
    "    return avgPressure, (2*deltaEs), deltaVol # 'Avg.' pressure (Pa) and Total electrical energy input (Joule) to the actuator"
   ]
  },
  {
   "cell_type": "code",
   "execution_count": null,
   "id": "c8c98aa0",
   "metadata": {},
   "outputs": [],
   "source": [
    "''' Explore design parameters '''\n",
    "\n",
    "intStepSize = 0.0001 # (mm) Step size for performing integral computation\n",
    "shellThickness = 0.015 # Unit: mm\n",
    "epsilon_s = 3.2\n",
    "epsilon_f = 3.2\n",
    "\n"
   ]
  }
 ],
 "metadata": {
  "kernelspec": {
   "display_name": "Python 3",
   "language": "python",
   "name": "python3"
  },
  "language_info": {
   "codemirror_mode": {
    "name": "ipython",
    "version": 3
   },
   "file_extension": ".py",
   "mimetype": "text/x-python",
   "name": "python",
   "nbconvert_exporter": "python",
   "pygments_lexer": "ipython3",
   "version": "3.6.8"
  }
 },
 "nbformat": 4,
 "nbformat_minor": 5
}
