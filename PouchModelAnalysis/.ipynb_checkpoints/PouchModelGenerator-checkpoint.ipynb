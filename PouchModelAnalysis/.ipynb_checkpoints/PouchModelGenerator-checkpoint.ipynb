{
 "cells": [
  {
   "cell_type": "code",
   "execution_count": 1,
   "id": "69814ed5",
   "metadata": {},
   "outputs": [
    {
     "name": "stdout",
     "output_type": "stream",
     "text": [
      "c shared library imported successfully!\n"
     ]
    }
   ],
   "source": [
    "'''\n",
    "Program to analyze pouch model parameters\n",
    "Unit: mm\n",
    "Author: Yitian Shao\n",
    "Created on 2022.01.13\n",
    "'''\n",
    "%matplotlib notebook \n",
    "%matplotlib notebook \n",
    "\n",
    "import time\n",
    "import csv\n",
    "import matplotlib.pyplot as plt\n",
    "from mpl_toolkits.mplot3d import Axes3D\n",
    "\n",
    "from PouchLib import * # This library will import numpy as np and sys"
   ]
  },
  {
   "cell_type": "code",
   "execution_count": 2,
   "id": "8132cd26",
   "metadata": {},
   "outputs": [],
   "source": [
    "meshDensity = 1000 # For visualization resolution (= 2R/dx)\n",
    "intStepSize = 0.0001 # (mm) Step size for performing integral computation\n",
    "\n",
    "shellThickness = 0.020 # (mm) Denoted as 'l_s' in publication\n",
    "epsilon_s = 2.0 # Relative permittivity of the shell\n",
    "epsilon_f = 3.2 # Relative permittivity of the fluid"
   ]
  },
  {
   "cell_type": "code",
   "execution_count": 3,
   "id": "6a20d6e4",
   "metadata": {},
   "outputs": [],
   "source": [
    "# Visualization\n",
    "# dashHalfDist = 5 # Denoted as 'n' in publication and m in the code\n",
    "# dashLength = 20 # Denoted as 'w' in publication\n",
    "# dashSpace = 4.66 # Denoted as 's+f' in publication\n",
    "# R = 10\n",
    "\n",
    "# fig1 = plt.figure(figsize = (10,10)) # Initialize a figure\n",
    "# ax = fig1.add_subplot(111, projection='3d')\n",
    "# ax.set_xlabel('X (mm)')\n",
    "# ax.set_ylabel('Y (mm)')\n",
    "# ax.set_zlabel('Z (mm)')\n",
    "# plt.show()\n",
    "\n",
    "# # Triangle Pouch ---------------------------------------------------------------------\n",
    "# triPouch0 = TrianglePouch(R, dashSpace, dashHalfDist, meshDensity, addAd = True, dispCircle = True)\n",
    "# triPouch0.displayPouch(ax, dispAdditive = True) \n",
    "# triPouch0.printInfo()\n",
    "\n",
    "# # Rectangle Pouch --------------------------------------------------------------------\n",
    "# rectPouch0 = RectanglePouch(triPouch0.r, dashLength, triPouch0.m, 2*triPouch0.m/triPouch0.dy, \n",
    "# addAd = True, dispCircle = True)  \n",
    "# rectPouch0.transformPouch(triPouch0.triangleBottomX, 0, 0)\n",
    "# rectPouch0.displayPouch(ax, dispAdditive = True) \n",
    "\n",
    "# ax.set_xlim3d([triPouch0.triangleTopX, triPouch0.triangleTopX+40]); \n",
    "# ax.set_ylim3d([-20, 20]); \n",
    "# ax.set_zlim3d([-20, 20]); \n",
    "# ax.set_box_aspect([1.0, 1.0, 1.0])\n"
   ]
  },
  {
   "cell_type": "code",
   "execution_count": 4,
   "id": "aff95657",
   "metadata": {},
   "outputs": [],
   "source": [
    "sys.stdout = open(1, 'w') # Print to terminal instead of the cell\n",
    "time0 = time.time()\n",
    "\n",
    "# dashHalfDist is denoted as 'n' in publication and m in the code\n",
    "# dashLength is denoted as 'w' in publication\n",
    "# dashSpace is denoted as 's+f' in publication and c in the code\n",
    "dashRange = [[5, 16, 8.66], [5, 12, 12.66], [5, 20, 4.66]]\n",
    "\n",
    "with open('PouchModelData.csv','w', newline='') as csvFile:\n",
    "    writer = csv.writer(csvFile)\n",
    "    writer.writerow(('dashHalfDist', 'dashSpace', 'R', 'triArc', 'triFA', 'triPSA', 'triVol', 'rectVol', \n",
    "                     'triCapa', 'rectCapa', 'dashLength'))\n",
    "\n",
    "    for dashHalfDist, dashLength, dashSpace in dashRange:\n",
    "        RRange = np.logspace(np.log10(10), np.log10(30), 100)\n",
    "        for R in RRange:\n",
    "\n",
    "            # Triangle Pouch ---------------------------------------------------------------------  \n",
    "            triPouch0 = TrianglePouch(R, dashSpace, dashHalfDist)\n",
    "            print(\"\\n\\n[%.0f s] Case: Dash Half Dist = %.2f mm, Dash Space = %.2f mm, R = %.2f mm, dashLength = %.2f mm\" % \n",
    "                  (time.time()-time0, dashHalfDist, dashSpace, R, dashLength))\n",
    "            triPouch0.printInfo()\n",
    "\n",
    "            triArc = triPouch0.getFrontArc() # Front Arc Length\n",
    "            print(\"Front Arc Length = %.3f mm\" % triArc)\n",
    "\n",
    "            triFA = triPouch0.getFrontArea() # Front Area\n",
    "            triPSA = triPouch0.getProjectedSideArea() # Projected Side Area\n",
    "            print(\"Front Area = %.3f mm2, Projected Side Area = %.3f mm2\" % (triFA, triPSA))\n",
    "\n",
    "            triVol = triPouch0.getVolume(intStepSize)\n",
    "            print(\"Volume of the triangle pouch V = %f mm3\" % (triVol)) \n",
    "\n",
    "            triCapa = triPouch0.getCapacitance(shellThickness, epsilon_s, epsilon_f, intStepSize)\n",
    "            print(\"Total Capacitance of the triangle pouch = %.3f Picofarad\" % (triCapa*1e12))\n",
    "\n",
    "            # Rectangle Pouch --------------------------------------------------------------------\n",
    "            rectPouch0 = RectanglePouch(triPouch0.r, dashLength, triPouch0.m)  \n",
    "\n",
    "            rectVol = rectPouch0.getVolume()\n",
    "            print(\"Volume of the rectangle pouch V = %.3f mm3\" % (rectVol)) \n",
    "\n",
    "            rectCapa = rectPouch0.getCapacitance(shellThickness, epsilon_s, epsilon_f, intStepSize)\n",
    "            print(\"Total Capacitance of the rectangle pouch = %.3f Picofarad\" % (rectCapa*1e12))\n",
    "\n",
    "            writer.writerow([triPouch0.m, triPouch0.c, triPouch0.R, triArc, triFA, triPSA, triVol, rectVol, \n",
    "                                         triCapa, rectCapa, rectPouch0.w])"
   ]
  },
  {
   "cell_type": "code",
   "execution_count": null,
   "id": "49e7840a",
   "metadata": {},
   "outputs": [],
   "source": []
  }
 ],
 "metadata": {
  "kernelspec": {
   "display_name": "Python 3",
   "language": "python",
   "name": "python3"
  },
  "language_info": {
   "codemirror_mode": {
    "name": "ipython",
    "version": 3
   },
   "file_extension": ".py",
   "mimetype": "text/x-python",
   "name": "python",
   "nbconvert_exporter": "python",
   "pygments_lexer": "ipython3",
   "version": "3.6.8"
  }
 },
 "nbformat": 4,
 "nbformat_minor": 5
}
