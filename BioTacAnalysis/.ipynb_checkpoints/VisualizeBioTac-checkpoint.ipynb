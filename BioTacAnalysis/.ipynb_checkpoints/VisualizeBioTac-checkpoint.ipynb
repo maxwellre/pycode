{
 "cells": [
  {
   "cell_type": "code",
   "execution_count": null,
   "id": "85626790",
   "metadata": {},
   "outputs": [],
   "source": [
    "'''\n",
    "Visualize pressure measurement of BioTac\n",
    "Author: Yitian Shao\n",
    "Created on 2022.06.12\n",
    "'''\n",
    "# %matplotlib notebook \n",
    "# %matplotlib notebook \n",
    "\n",
    "import time\n",
    "from os import walk\n",
    "import os.path as ospa\n",
    "import numpy as np\n",
    "import re\n",
    "import matplotlib.pyplot as plt\n",
    "import pandas as pd\n",
    "from scipy import signal\n",
    "\n",
    "plt.rcParams.update({'font.size': 14})"
   ]
  },
  {
   "cell_type": "code",
   "execution_count": null,
   "id": "a02121d1",
   "metadata": {},
   "outputs": [],
   "source": [
    "'''\n",
    "General Functions\n",
    "'''\n",
    "\n",
    "def aPlot(figName='', is3D = False, dpi=72):\n",
    "    ax = []\n",
    "    \n",
    "    fig1 = plt.figure(figsize = (6,3), dpi=dpi)\n",
    "    \n",
    "    fig1.suptitle(figName, fontsize=16)\n",
    "    if(is3D):\n",
    "        ax = fig1.add_subplot(111, projection='3d')\n",
    "    else:\n",
    "        ax = fig1.add_subplot(111)\n",
    "        \n",
    "    return ax, fig1\n",
    "\n",
    "def sample2Time(ax, Fs): # Covert the xticks of current plot from samples to time using Fs\n",
    "    locs, _ = plt.xticks()\n",
    "    plt.xticks(locs, locs/Fs)\n",
    "    ax.set_xlim(0, locs[-1])\n",
    "    ax.set_xlabel('Time (secs)')\n",
    "\n",
    "def lowpassFilter(datain, cutFreq, Fs, order):\n",
    "    b, a = signal.butter(order, 2 * cutFreq / Fs, btype='low')\n",
    "    dataout = signal.filtfilt(b, a, datain)\n",
    "    return dataout"
   ]
  },
  {
   "cell_type": "code",
   "execution_count": null,
   "id": "62efad99",
   "metadata": {},
   "outputs": [],
   "source": []
  }
 ],
 "metadata": {
  "kernelspec": {
   "display_name": "Python 3",
   "language": "python",
   "name": "python3"
  },
  "language_info": {
   "codemirror_mode": {
    "name": "ipython",
    "version": 3
   },
   "file_extension": ".py",
   "mimetype": "text/x-python",
   "name": "python",
   "nbconvert_exporter": "python",
   "pygments_lexer": "ipython3",
   "version": "3.6.8"
  }
 },
 "nbformat": 4,
 "nbformat_minor": 5
}
