{
 "cells": [
  {
   "cell_type": "code",
   "execution_count": null,
   "id": "1a0b56fa",
   "metadata": {},
   "outputs": [],
   "source": [
    "'''\n",
    "Compare BioTac measurement of natural touch versus feedback\n",
    "'''\n",
    "\n",
    "from os import walk\n",
    "import os.path as ospa\n",
    "import numpy as np\n",
    "import re\n",
    "import matplotlib.pyplot as plt\n",
    "from matplotlib.pyplot import cm\n",
    "from matplotlib.patches import Arc\n",
    "import pandas as pd\n",
    "from scipy import signal\n",
    "from scipy.interpolate import griddata\n",
    "import seaborn as sns\n",
    "\n",
    "from PyBiotacLib import *\n",
    "\n",
    "# from IPython.display import set_matplotlib_formats\n",
    "# set_matplotlib_formats('svg', 'pdf')\n",
    "\n",
    "plt.rc('font', size=10, family='Verdana') # 'Tahoma', 'DejaVu Sans', 'Verdana'\"\n",
    "plt.rc('axes', edgecolor='0.5', linewidth=0.75)\n",
    "plt.rc('axes.spines', **{'bottom':True, 'left':True, 'right':False, 'top':False})\n",
    "plt.rcParams.update({'errorbar.capsize': 4})\n",
    "# plt.rcParams['figure.dpi'] = 300\n",
    "plt.rcParams['savefig.dpi'] = 300\n",
    "\n",
    "plt.rcParams['xtick.top'] = True\n",
    "plt.rcParams['xtick.bottom'] = True\n",
    "plt.rcParams['ytick.left'] = True\n",
    "plt.rcParams['ytick.right'] = True\n",
    "plt.rcParams['xtick.direction'] = 'in'\n",
    "plt.rcParams['ytick.direction'] = 'in'\n",
    "plt.rcParams['errorbar.capsize'] = 4\n",
    "    \n",
    "figSize_inch = (3.2, 2.4)\n",
    "\n"
   ]
  },
  {
   "cell_type": "code",
   "execution_count": null,
   "id": "eed71aa9",
   "metadata": {
    "scrolled": false
   },
   "outputs": [],
   "source": [
    "'''---------------------------------------------------- Keyboard ----------------------------------------------------'''\n",
    "# measureDataPath = \".\\Data2023.03.20\"\n",
    "# fileName = 'keyboard.btd.csv' \n",
    "# btData = loadRawBioTac(measureDataPath, fileName)\n",
    "### tind = np.arange(480, 510, 3)\n",
    "### tind = np.arange(470, 710, 20)\n",
    "# tind = np.arange(1050, 1080, 3)\n",
    "# tind = np.arange(1136, 1166, 3)\n",
    "# fig1, fig1cbar, fig2, ax1 = generateMapResult(tind, btData, yMax=5)\n",
    "\n",
    "\n",
    "measureDataPath = \".\\Data2023.03.22\"\n",
    "\n",
    "fileName = 'keyboard-B1.btd.csv' \n",
    "btData = loadRawBioTac(measureDataPath, fileName)\n",
    "examData(btData, tInstance=0, tRange=[4.7, 6])\n",
    "tind = np.arange(475, 550, 7)\n",
    "\n",
    "fileName = 'keyboard-B2.btd.csv' \n",
    "# btData = loadRawBioTac(measureDataPath, fileName)\n",
    "# examData(btData, tInstance=0, tRange=[4, 12])\n",
    "# tind = np.arange(410, 485, 7)\n",
    "\n",
    "# fig1, fig1cbar, fig2, ax1 = generateMapResult(tind, btData, yMax=5, alpha=2000)\n",
    "\n",
    "plotElectrodeRawData(tind, btData);"
   ]
  },
  {
   "cell_type": "code",
   "execution_count": null,
   "id": "8975b9a6",
   "metadata": {},
   "outputs": [],
   "source": [
    "# print(\"Fs - pDC = %.1f +/- %.6f Hz\" % ( np.mean(1/np.diff(btData['t'])) , np.std(1/np.diff(btData['t'])) ))\n",
    "# print(\"Fs - pAC = %.1f +/- %.6f Hz\" % ( 1/np.mean(np.diff(btData['t2'])) , 1/np.std(np.diff(btData['t2'])) ))"
   ]
  },
  {
   "cell_type": "code",
   "execution_count": null,
   "id": "4a8621ac",
   "metadata": {
    "scrolled": false
   },
   "outputs": [],
   "source": [
    "\n",
    "'''---------------------------------------------------- Palpation ----------------------------------------------------'''\n",
    "# measureDataPath = \".\\Data2023.03.20\"\n",
    "# fileName = 'palpation.btd.csv' \n",
    "# btData = loadRawBioTac(measureDataPath, fileName)\n",
    "# tRange=[12.9, 16.4]\n",
    "# tRange = [4.2, 6.4]\n",
    "# examData(btData, tInstance=0, tRange=tRange)\n",
    "### tind = np.arange(1590, 1620, 3) # Last stroke not working\n",
    "# tind = np.arange(1476, 1525, 6)\n",
    "# tind = np.arange(1298, 1345, 5)\n",
    "# tind = np.arange(470, 530, 6)\n",
    "# fig1, fig1cbar, fig2, ax1 = generateMapResult(tind, btData, yMax=8)\n",
    "\n",
    "measureDataPath = \".\\Data2023.03.22\"\n",
    "\n",
    "fileName = 'palpation-B1.btd.csv' \n",
    "btData = loadRawBioTac(measureDataPath, fileName)\n",
    "examData(btData, tInstance=0, tRange=[7.5, 9])\n",
    "tind = np.arange(750, 805, 5)\n",
    "\n",
    "fileName = 'palpation-B2.btd.csv' \n",
    "# btData = loadRawBioTac(measureDataPath, fileName)\n",
    "# examData(btData, tInstance=0, tRange=[9, 15])\n",
    "\n",
    "# tind = np.arange(910, 990, 8)\n",
    "# fig1, fig1cbar, fig2, ax1 = generateMapResult(tind, btData, yMax=6.5, alpha=2000)\n",
    "\n",
    "plotElectrodeRawData(tind, btData);"
   ]
  },
  {
   "cell_type": "code",
   "execution_count": null,
   "id": "c67e97a5",
   "metadata": {
    "scrolled": false
   },
   "outputs": [],
   "source": [
    "'''---------------------------------------------------- Fabric ----------------------------------------------------'''\n",
    "# measureDataPath = \".\\Data2023.03.20\"\n",
    "# fileName = 'fabric.btd.csv' \n",
    "# btData = loadRawBioTac(measureDataPath, fileName)\n",
    "# tRange = [4.1, 7.3]\n",
    "# tRange=[12, 17]\n",
    "# examData(btData, tInstance=0, tRange=tRange)\n",
    "# tind = np.arange(430, 490, 6)\n",
    "# tind = np.arange(1470, 1540, 7)\n",
    "\n",
    "measureDataPath = \".\\Data2023.03.22\"\n",
    "\n",
    "fileName = 'fabric-B1.btd.csv' \n",
    "# btData = loadRawBioTac(measureDataPath, fileName)\n",
    "# examData(btData, tInstance=0, tRange=[4.5, 12])\n",
    "# tind = np.arange(450, 585, 12)\n",
    "\n",
    "fileName = 'fabric-B2.btd.csv' \n",
    "# btData = loadRawBioTac(measureDataPath, fileName)\n",
    "# examData(btData, tInstance=0, tRange=[5.5, 12])\n",
    "# tind = np.arange(560, 635, 7)\n",
    "\n",
    "# fig1, fig1cbar, fig2, ax1 = generateMapResult(tind, btData, yMax=8, alpha=2000)"
   ]
  },
  {
   "cell_type": "code",
   "execution_count": null,
   "id": "be9acecd",
   "metadata": {},
   "outputs": [],
   "source": [
    "measureDataPath2 = \".\\Data2022.06.26\""
   ]
  },
  {
   "cell_type": "code",
   "execution_count": null,
   "id": "66efb6b6",
   "metadata": {
    "scrolled": false
   },
   "outputs": [],
   "source": [
    "root = 'Act60mm1.5mL'; \n",
    "'''---------------------------------------------------- 1.2 sec ----------------------------------------------------'''\n",
    "fileName = 'v100c1200d4000t1.btd.csv' \n",
    "btData = loadRawBioTac(measureDataPath2, fileName, root)\n",
    "\n",
    "# tRange=[0, 32.0]\n",
    "tRange=[1.5, 3.3]\n",
    "examData(btData, tInstance=0, tRange=tRange)\n",
    "\n",
    "tind = np.arange(155, 325, 17)\n",
    "fig1, fig1cbar, fig2, ax1 = generateMapResult(tind, btData, yMax=6)"
   ]
  },
  {
   "cell_type": "code",
   "execution_count": null,
   "id": "2ea8eef4",
   "metadata": {
    "scrolled": false
   },
   "outputs": [],
   "source": [
    "root = 'Act90mm1.8mL'; \n",
    "'''---------------------------------------------------- 1.2 sec ----------------------------------------------------'''\n",
    "fileName = 'v100c1200d4000t1.btd.csv' \n",
    "btData = loadRawBioTac(measureDataPath2, fileName, root)\n",
    "\n",
    "# examData(btData, tInstance=0)\n",
    "\n",
    "# tind = np.arange(120, 290, 17)\n",
    "# fig1, fig1cbar, fig2, ax1 = generateMapResult(tind, btData, yMax=5, reverseColorbar=False)"
   ]
  },
  {
   "cell_type": "code",
   "execution_count": null,
   "id": "6ebe04a3",
   "metadata": {
    "scrolled": false
   },
   "outputs": [],
   "source": [
    "root = 'Act60mm1.5mL'; \n",
    "'''---------------------------------------------------- 0.8 sec ----------------------------------------------------'''\n",
    "fileName = 'v100c800d4000t2.btd.csv' \n",
    "btData = loadRawBioTac(measureDataPath2, fileName, root)\n",
    "\n",
    "# examData(btData, tInstance=0)\n",
    "\n",
    "# tind = np.arange(580, 705, 12)\n",
    "# fig1, fig1cbar, fig2, ax1 = generateMapResult(tind, btData, yMax=5, reverseColorbar=False)\n",
    "\n",
    "# plotElectrodeRawData(tind, btData); #, unifyRange=[-52, 52]);"
   ]
  },
  {
   "cell_type": "code",
   "execution_count": null,
   "id": "e184dc5f",
   "metadata": {
    "scrolled": false
   },
   "outputs": [],
   "source": [
    "root = 'Act90mm1.8mL'; \n",
    "'''---------------------------------------------------- 0.8 sec ----------------------------------------------------'''\n",
    "fileName = 'v100c800d4000t1.btd.csv' \n",
    "btData = loadRawBioTac(measureDataPath2, fileName, root)\n",
    "\n",
    "examData(btData, tInstance=0, tRange=[6.2, 8])\n",
    "\n",
    "tind = np.arange(620, 745, 12)\n",
    "# fig1, fig1cbar, fig2, ax1 = generateMapResult(tind, btData, yMax=5, reverseColorbar=False)\n",
    "\n",
    "plotElectrodeRawData(tind, btData);"
   ]
  },
  {
   "cell_type": "code",
   "execution_count": null,
   "id": "18bbff8b",
   "metadata": {
    "scrolled": false
   },
   "outputs": [],
   "source": [
    "root = 'Act110mm1.8mL'; \n",
    "'''---------------------------------------------------- 0.8 sec ----------------------------------------------------'''\n",
    "fileName = 'v100c800d4000t1.btd.csv' \n",
    "btData = loadRawBioTac(measureDataPath2, fileName, root)\n",
    "\n",
    "# examData(btData, tInstance=0)\n",
    "\n",
    "tind = np.arange(215, 340, 12)\n",
    "# fig1, fig1cbar, fig2, ax1 = generateMapResult(tind, btData, yMax=5, reverseColorbar=False)\n",
    "\n",
    "plotElectrodeRawData(tind, btData);"
   ]
  },
  {
   "cell_type": "code",
   "execution_count": null,
   "id": "424851a3",
   "metadata": {
    "scrolled": false
   },
   "outputs": [],
   "source": [
    "# root = 'Act110mm1.8mL'; \n",
    "# '''---------------------------------------------------- 1.2 sec ----------------------------------------------------'''\n",
    "# fileName = 'v100c1200d4000t1.btd.csv' \n",
    "# btData = loadRawBioTac(measureDataPath2, fileName, root)\n",
    "\n",
    "# examData(btData, tInstance=0)\n",
    "\n",
    "# tind = np.arange(170, 340, 17)\n",
    "# fig1, fig1cbar, fig2, ax1 = generateMapResult(tind, btData, yMax=5, reverseColorbar=False)"
   ]
  },
  {
   "cell_type": "code",
   "execution_count": null,
   "id": "502a8964",
   "metadata": {
    "scrolled": false
   },
   "outputs": [],
   "source": [
    "#  root = 'Act110mm1.8mL'; \n",
    "# '''---------------------------------------------------- 0.4 sec ----------------------------------------------------'''\n",
    "# fileName = 'v100c400d4000t1.btd.csv' \n",
    "# btData = loadRawBioTac(measureDataPath2, fileName, root)\n",
    "\n",
    "# examData(btData, tInstance=0)\n",
    "\n",
    "# tind = np.arange(120, 200, 8)\n",
    "# fig1, fig1cbar, fig2, ax1 = generateMapResult(tind, btData, yMax=5, reverseColorbar=False)"
   ]
  },
  {
   "cell_type": "code",
   "execution_count": null,
   "id": "e277a38d",
   "metadata": {
    "scrolled": false
   },
   "outputs": [],
   "source": [
    "root = 'Act60mm1.5mL'; \n",
    "'''---------------------------------------------------- 0.4 sec ----------------------------------------------------'''\n",
    "fileName = 'v100c400d4000t1.btd.csv' \n",
    "btData = loadRawBioTac(measureDataPath2, fileName, root)\n",
    "\n",
    "examData(btData, tInstance=0, tRange=[5.6, 7])\n",
    "\n",
    "tind = np.arange(562, 630, 7)\n",
    "\n",
    "plotElectrodeRawData(tind, btData);"
   ]
  },
  {
   "cell_type": "code",
   "execution_count": null,
   "id": "72c9dcbd",
   "metadata": {},
   "outputs": [],
   "source": []
  }
 ],
 "metadata": {
  "kernelspec": {
   "display_name": "p39",
   "language": "python",
   "name": "p39"
  },
  "language_info": {
   "codemirror_mode": {
    "name": "ipython",
    "version": 3
   },
   "file_extension": ".py",
   "mimetype": "text/x-python",
   "name": "python",
   "nbconvert_exporter": "python",
   "pygments_lexer": "ipython3",
   "version": "3.9.12"
  }
 },
 "nbformat": 4,
 "nbformat_minor": 5
}
