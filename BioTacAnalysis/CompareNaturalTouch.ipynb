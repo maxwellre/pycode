{
 "cells": [
  {
   "cell_type": "code",
   "execution_count": 1,
   "id": "1a0b56fa",
   "metadata": {},
   "outputs": [],
   "source": [
    "'''\n",
    "Compare BioTac measurement of natural touch versus feedback\n",
    "'''\n",
    "\n",
    "from os import walk\n",
    "import os.path as ospa\n",
    "import numpy as np\n",
    "import re\n",
    "import matplotlib.pyplot as plt\n",
    "from matplotlib.pyplot import cm\n",
    "from matplotlib.colors import ListedColormap\n",
    "from matplotlib.patches import Arc\n",
    "import pandas as pd\n",
    "from scipy import signal\n",
    "from scipy.interpolate import griddata\n",
    "import seaborn as sns\n",
    "\n",
    "from PyBiotacLib import *\n",
    "\n",
    "# from IPython.display import set_matplotlib_formats\n",
    "# set_matplotlib_formats('svg', 'pdf')\n",
    "\n",
    "plt.rc('font', size=10, family='Verdana') # 'Tahoma', 'DejaVu Sans', 'Verdana'\"\n",
    "plt.rc('axes', edgecolor='0.5', linewidth=0.75)\n",
    "plt.rc('axes.spines', **{'bottom':True, 'left':True, 'right':False, 'top':False})\n",
    "plt.rcParams.update({'errorbar.capsize': 4})\n",
    "# plt.rcParams['figure.dpi'] = 300\n",
    "plt.rcParams['savefig.dpi'] = 300\n",
    "\n",
    "plt.rcParams['xtick.top'] = True\n",
    "plt.rcParams['xtick.bottom'] = True\n",
    "plt.rcParams['ytick.left'] = True\n",
    "plt.rcParams['ytick.right'] = True\n",
    "plt.rcParams['xtick.direction'] = 'in'\n",
    "plt.rcParams['ytick.direction'] = 'in'\n",
    "plt.rcParams['errorbar.capsize'] = 4\n",
    "    \n",
    "figSize_inch = (3.2, 2.4)\n",
    "\n",
    "frameNum = 10\n",
    "tindLength = frameNum * 10 + 5"
   ]
  },
  {
   "cell_type": "code",
   "execution_count": 5,
   "id": "c170cb09",
   "metadata": {
    "scrolled": false
   },
   "outputs": [],
   "source": [
    "measureDataPath = \".\\Data0425\"\n",
    "\n",
    "fileName = 'index-alona-keyboard.btd.csv' \n",
    "\n",
    "# btData = loadRawBioTac(measureDataPath, fileName)\n",
    "\n",
    "# examData(btData, tInstance=0, tRange=[50.2, 150])\n",
    "\n",
    "# examElectrodePattern(np.arange(7800, 8500, 2), btData)\n",
    "\n",
    "# plotElectrodeRawData(np.arange(10580, 10660, 8), btData, 0, unifyRange=\"Symmetric\"); # Center only\n",
    "# fig1,fig1cbar,fig2,ax2 = plotElectrodeRawData(np.arange(8055, 8130, 7), btData, 0, unifyRange=\"Symmetric\");"
   ]
  },
  {
   "cell_type": "code",
   "execution_count": 10,
   "id": "a727894a",
   "metadata": {
    "scrolled": false
   },
   "outputs": [],
   "source": [
    "measureDataPath = \".\\Data0425\"\n",
    "\n",
    "fileName = 'index-alona-floating-sweater-pinch.btd.csv' \n",
    "\n",
    "# btData = loadRawBioTac(measureDataPath, fileName)\n",
    "\n",
    "# examData(btData, tInstance=0, tRange=[0.2, 32])\n",
    "\n",
    "# examElectrodePattern(np.arange(800, 3000, 5), btData)\n",
    "\n",
    "# fig1,fig1cbar,fig2,ax2 = plotElectrodeRawData(np.arange(2119, 2158, 4), btData, 0, unifyRange=\"Symmetric\");\n",
    "\n",
    "\n",
    "# measureDataPath = \".\\Data0425\"\n",
    "# fileName = 'index-alona-floating-sweater-push.btd.csv' \n",
    "# btData = loadRawBioTac(measureDataPath, fileName)\n",
    "# examData(btData, tInstance=0, tRange=[0.2, 42])\n",
    "# examElectrodePattern(np.arange(1400, 3500, 5), btData)\n",
    "# plotElectrodeRawData(np.arange(1830, 1940, 10), btData, 0, unifyRange=\"Symmetric\");"
   ]
  },
  {
   "cell_type": "code",
   "execution_count": 28,
   "id": "a2e098e8",
   "metadata": {
    "scrolled": false
   },
   "outputs": [],
   "source": [
    "measureDataPath = \".\\Data0425\"\n",
    "fileName = 'index-alona-kiwi-lift-2nd.btd.csv' \n",
    "# btData = loadRawBioTac(measureDataPath, fileName)\n",
    "# examData(btData, tInstance=0, tRange=[0.2, 42])\n",
    "\n",
    "# examElectrodePattern(np.arange(700, 3000, 5), btData)\n",
    "\n",
    "# fig1,fig1cbar,fig2,ax2 = plotElectrodeRawData(np.arange(2550, 2715, 17), btData, 0, unifyRange=\"Symmetric\");"
   ]
  },
  {
   "cell_type": "code",
   "execution_count": 42,
   "id": "47671eb3",
   "metadata": {
    "scrolled": false
   },
   "outputs": [],
   "source": [
    "measureDataPath = \".\\Data0425\"\n",
    "fileName = 'index-alona-palpation.btd.csv' \n",
    "# btData = loadRawBioTac(measureDataPath, fileName)\n",
    "\n",
    "# examData(btData, tInstance=0, tRange=[0.2, 30])\n",
    "# examElectrodePattern(np.arange(400, 3000, 10), btData)\n",
    "# plotElectrodeRawData(np.arange(885, 980, 10), btData, 0, unifyRange=\"Symmetric\");\n",
    "# fig1,fig1cbar,fig2,ax2 = plotElectrodeRawData(np.arange(2449, 2525, 8), btData, 0, unifyRange=\"Symmetric\");"
   ]
  },
  {
   "cell_type": "code",
   "execution_count": null,
   "id": "23fc157f",
   "metadata": {},
   "outputs": [],
   "source": [
    "measureDataPath = \".\\Data0425\"\n",
    "\n",
    "fileName = 'index-alona-kiwi-lift-2nd.btd.csv' \n",
    "\n",
    "btData = loadRawBioTac(measureDataPath, fileName)\n",
    "\n",
    "examData(btData, tInstance=0, tRange=[0.2, 40])\n"
   ]
  },
  {
   "cell_type": "code",
   "execution_count": 7,
   "id": "317bf1a5",
   "metadata": {
    "scrolled": false
   },
   "outputs": [],
   "source": [
    "measureDataPath = \".\\Data0331\"\n",
    "fileName = 'keyboard-BA.btd.csv' \n",
    "\n",
    "btData = loadRawBioTac(measureDataPath, fileName)\n",
    "\n",
    "# examData(btData, tInstance=0, tRange=[0.2, 80])\n",
    "# examElectrodePattern(np.arange(200, 7000, 10), btData)\n",
    "\n",
    "segIndPair = segmentData(btData)\n",
    "\n",
    "# plotElectrodeRawData(np.arange(3410, 3545, 13), btData, 0, unifyRange=\"Symmetric\");\n",
    "# plotElectrodeRawData(np.arange(6430, 6615, 18), btData, 0, unifyRange=\"Symmetric\");\n",
    "# plotElectrodeRawData(np.arange(2160, 2275, 11), btData, 0, unifyRange=\"Symmetric\");"
   ]
  },
  {
   "cell_type": "code",
   "execution_count": null,
   "id": "4e5069f9",
   "metadata": {
    "scrolled": false
   },
   "outputs": [],
   "source": [
    "fileName = 'fabric-BA.btd.csv' \n",
    "\n",
    "btData = loadRawBioTac(measureDataPath, fileName)\n",
    "\n",
    "# examData(btData, tInstance=0, tRange=[0.2, 50])\n",
    "# examElectrodePattern(np.arange(600, 5000, 10), btData)\n",
    "\n",
    "segmentData(btData)\n",
    "\n",
    "# plotElectrodeRawData(np.arange(630, 735, 10), btData, 0);\n",
    "# plotElectrodeRawData(np.arange(2600, 2685, 8), btData, 0);\n",
    "# plotElectrodeRawData(np.arange(2970, 3065, 9), btData, 0, unifyRange=\"Raw\");"
   ]
  },
  {
   "cell_type": "code",
   "execution_count": null,
   "id": "1423cb76",
   "metadata": {
    "scrolled": false
   },
   "outputs": [],
   "source": [
    "fileName = 'palpation-BA.btd.csv' \n",
    "\n",
    "btData = loadRawBioTac(measureDataPath, fileName)\n",
    "\n",
    "# examData(btData, tInstance=0, tRange=[0.2, 50])\n",
    "# examElectrodePattern(np.arange(200, 4400, 10), btData)\n",
    "\n",
    "segmentData(btData)\n",
    "\n",
    "# plotElectrodeRawData(np.arange(1615, 1820, 20), btData, 0, unifyRange=\"Raw\");\n",
    "# plotElectrodeRawData(np.arange(3305, 3470, 17), btData, 0, unifyRange=\"Raw\");"
   ]
  },
  {
   "cell_type": "code",
   "execution_count": null,
   "id": "e41f7793",
   "metadata": {
    "scrolled": false
   },
   "outputs": [],
   "source": [
    "# fileName = 'pen-BA.btd.csv' \n",
    "\n",
    "# btData = loadRawBioTac(measureDataPath, fileName)\n",
    "\n",
    "# examData(btData, tInstance=0, tRange=[0.2, 50])\n",
    "# examElectrodePattern(np.arange(500, 4600, 10), btData)\n",
    "\n",
    "# plotElectrodeRawData(np.arange(560, 635, 7), btData, 0, unifyRange=\"Raw\");\n",
    "# plotElectrodeRawData(np.arange(2245, 2350, 10), btData, 0, unifyRange=\"Raw\");\n",
    "# plotElectrodeRawData(np.arange(3960, 4025, 6), btData, 0, unifyRange=\"Raw\");"
   ]
  },
  {
   "cell_type": "code",
   "execution_count": null,
   "id": "c1b56e76",
   "metadata": {
    "scrolled": false
   },
   "outputs": [],
   "source": [
    "# measureDataPath = \".\\Data0331\"\n",
    "# # fileName = 'dual-pen.btd.csv' \n",
    "# fileName = 'dual-pen2.btd.csv' \n",
    "# btData = loadRawBioTac(measureDataPath, fileName)\n",
    "\n",
    "# examData(btData, tInstance=0, tRange=[0.2, 50])\n",
    "# examElectrodePattern(np.arange(200, 5000, 8), btData)\n",
    "\n",
    "# segmentData(btData, threshold=0.3)\n",
    "\n",
    "# plotElectrodeRawData(np.arange(1150, 1485, 30), btData, 0, unifyRange=\"Raw\"); # Grasp Pencil\n",
    "# plotElectrodeRawData(np.arange(1861, 2065, 20), btData, 0, unifyRange=\"Raw\"); # Grasp Pen (1860, 2365, 50)\n",
    "# plotElectrodeRawData(np.arange(2820, 3025, 20), btData, 0, unifyRange=\"Raw\"); # Grasp Pencil"
   ]
  },
  {
   "cell_type": "code",
   "execution_count": null,
   "id": "efb00e50",
   "metadata": {
    "scrolled": false
   },
   "outputs": [],
   "source": [
    "fileName = 'dual-fruts.btd.csv' \n",
    "# fileName = 'dual-fruts2.btd.csv' \n",
    "btData = loadRawBioTac(measureDataPath, fileName)\n",
    "\n",
    "# examData(btData, tInstance=0, tRange=[2, 58])\n",
    "# examElectrodePattern(np.arange(200, 5800, 8), btData)\n",
    "\n",
    "segmentData(btData, threshold=0.2)\n",
    "\n",
    "plotElectrodeRawData(np.arange(495, 740, 24), btData, 0, unifyRange=\"Raw\"); # Grasp tomato\n",
    "# plotElectrodeRawData(np.arange(2105, 2330, 24), btData, 0, unifyRange=\"Raw\"); # Grasp tomato\n",
    "plotElectrodeRawData(np.arange(2700, 2905, 20), btData, 0, unifyRange=\"Raw\"); # Grasp kiwi\n",
    "# plotElectrodeRawData(np.arange(3730, 4085, 30), btData, 0, unifyRange=\"Raw\"); # Grasp kiwi\n",
    "plotElectrodeRawData(np.arange(4900, 5125, 22), btData, 0, unifyRange=\"Raw\"); # Grasp orange"
   ]
  },
  {
   "cell_type": "code",
   "execution_count": null,
   "id": "f4d73abf",
   "metadata": {
    "scrolled": false
   },
   "outputs": [],
   "source": [
    "# measureDataPath = \".\\Data0331\"\n",
    "\n",
    "# fileName = 'first_BA.btd.csv' \n",
    "# fileName = 'keyboard-BA.btd.csv' \n",
    "# fileName = 'fabric-BA.btd.csv' \n",
    "# fileName = 'palpation-BA.btd.csv' \n",
    "# fileName = 'pen-BA.btd.csv' \n",
    "# fileName = 'dual-fruts.btd.csv' \n",
    "# fileName = 'dual-fruts2.btd.csv' \n",
    "# fileName = 'dual-pen.btd.csv' \n",
    "\n",
    "# btData = loadRawBioTac(measureDataPath, fileName)\n",
    "\n",
    "# examData(btData, tInstance=0, tRange=[0.2, 90])"
   ]
  },
  {
   "cell_type": "code",
   "execution_count": null,
   "id": "1138fd56",
   "metadata": {},
   "outputs": [],
   "source": [
    "# tind = np.arange(500, 605, 10)\n",
    "# tind = np.arange(2100, 2305, 20) # tind = np.arange(1700, 1905, 20) # keyboard\n",
    "# tind = np.arange(600, 805, 20) # fabric\n",
    "# tind = np.arange(3700, 3905, 20) # palpation\n",
    "# tind = np.arange(550, 655, 10) # pen\n",
    "# tind = np.arange(1300, 1505, 20) # dual fruit\n",
    "tind = np.arange(1000, 1605, 60) # dual pen\n",
    "\n",
    "plotElectrodeRawData(tind, btData, 0);"
   ]
  },
  {
   "cell_type": "code",
   "execution_count": null,
   "id": "f048a66f",
   "metadata": {
    "scrolled": false
   },
   "outputs": [],
   "source": [
    "# measureDataPath = \".\\Data0331\"\n",
    "# fileName = 'first_BA.btd.csv' \n",
    "\n",
    "# btData = loadRawBioTac(measureDataPath, fileName)\n",
    "\n",
    "# examData(btData, tInstance=0, tRange=[0.2, 17])\n",
    "# examElectrodePattern(np.arange(10, 1700, 4), btData)\n",
    "\n",
    "# plotElectrodeRawData(np.arange(895, 930, 3), btData, 0, unifyRange=\"Raw\");\n",
    "\n",
    "# startInd = 880\n",
    "# plotElectrodeRawData(np.arange(startInd, startInd+tindLength, frameNum), btData, 0);"
   ]
  },
  {
   "cell_type": "code",
   "execution_count": null,
   "id": "eed71aa9",
   "metadata": {
    "scrolled": true
   },
   "outputs": [],
   "source": [
    "'''---------------------------------------------------- Keyboard ----------------------------------------------------'''\n",
    "# measureDataPath = \".\\Data2023.03.20\"\n",
    "# fileName = 'keyboard.btd.csv' \n",
    "# btData = loadRawBioTac(measureDataPath, fileName)\n",
    "### tind = np.arange(480, 510, 3)\n",
    "### tind = np.arange(470, 710, 20)\n",
    "# tind = np.arange(1050, 1080, 3)\n",
    "# tind = np.arange(1136, 1166, 3)\n",
    "# fig1, fig1cbar, fig2, ax1 = generateMapResult(tind, btData, yMax=5)\n",
    "\n",
    "\n",
    "# measureDataPath = \".\\Data2023.03.22\"\n",
    "\n",
    "# fileName = 'keyboard-B1.btd.csv' \n",
    "# # btData = loadRawBioTac(measureDataPath, fileName)\n",
    "# # examData(btData, tInstance=0, tRange=[4.7, 6])\n",
    "# # tind = np.arange(475, 550, 7)\n",
    "\n",
    "# fileName = 'keyboard-B2.btd.csv' \n",
    "# btData = loadRawBioTac(measureDataPath, fileName)\n",
    "# # examData(btData, tInstance=0, tRange=[4, 12])\n",
    "# tind = np.arange(410, 485, 7)\n",
    "\n",
    "# # fig1, fig1cbar, fig2, ax1 = generateMapResult(tind, btData, yMax=5, alpha=2000)\n",
    "\n",
    "# plotElectrodeRawData(tind, btData, unifyRange=\"Raw\"); #[-15, 25]\n",
    "\n",
    "measureDataPath = \".\\Data0329\"\n",
    "fileName = 'keyboard3-BA.btd.csv' \n",
    "btData = loadRawBioTac(measureDataPath, fileName)\n",
    "# examData(btData, tInstance=0, tRange=[3, 9])\n",
    "examData(btData, tInstance=0, tRange=[6.2, 8])\n",
    "\n",
    "tind = np.arange(620, 695, 7)\n",
    "plotElectrodeRawData(tind, btData, 0, \"Raw\");\n",
    "\n",
    "\n",
    "# fileName = 'keyboard3-B1.btd.csv' \n",
    "# btData = loadRawBioTac(measureDataPath, fileName)\n",
    "# # examData(btData, tInstance=0, tRange=[14.5, 19])\n",
    "# examData(btData, tInstance=0, tRange=[17, 19])\n",
    "\n",
    "# tind = np.arange(1700, 1755, 5)\n",
    "# plotElectrodeRawData(tind, btData, 0, \"Raw\");\n",
    "\n",
    "\n",
    "# fileName = 'keyboard3-B2.btd.csv' \n",
    "# btData = loadRawBioTac(measureDataPath, fileName)\n",
    "# # examData(btData, tInstance=0, tRange=[20.5, 28])\n",
    "# examData(btData, tInstance=0, tRange=[24.3, 26])\n",
    "\n",
    "# tind = np.arange(2430, 2495, 6)\n",
    "# plotElectrodeRawData(tind, btData, 0, \"Raw\");"
   ]
  },
  {
   "cell_type": "code",
   "execution_count": null,
   "id": "4a8621ac",
   "metadata": {
    "scrolled": false
   },
   "outputs": [],
   "source": [
    "\n",
    "'''---------------------------------------------------- Palpation ----------------------------------------------------'''\n",
    "# measureDataPath = \".\\Data2023.03.20\"\n",
    "# fileName = 'palpation.btd.csv' \n",
    "# btData = loadRawBioTac(measureDataPath, fileName)\n",
    "# tRange=[12.9, 16.4]\n",
    "# tRange = [4.2, 6.4]\n",
    "# examData(btData, tInstance=0, tRange=tRange)\n",
    "### tind = np.arange(1590, 1620, 3) # Last stroke not working\n",
    "# tind = np.arange(1476, 1525, 6)\n",
    "# tind = np.arange(1298, 1345, 5)\n",
    "# tind = np.arange(470, 530, 6)\n",
    "# fig1, fig1cbar, fig2, ax1 = generateMapResult(tind, btData, yMax=8)\n",
    "\n",
    "# measureDataPath = \".\\Data2023.03.22\"\n",
    "\n",
    "# fileName = 'palpation-B1.btd.csv' \n",
    "# # btData = loadRawBioTac(measureDataPath, fileName)\n",
    "# # examData(btData, tInstance=0, tRange=[7.5, 9])\n",
    "# # tind = np.arange(750, 805, 5)\n",
    "\n",
    "# fileName = 'palpation-B2.btd.csv' \n",
    "# btData = loadRawBioTac(measureDataPath, fileName)\n",
    "# # examData(btData, tInstance=0, tRange=[9, 15])\n",
    "\n",
    "# tind = np.arange(910, 990, 8)\n",
    "# # fig1, fig1cbar, fig2, ax1 = generateMapResult(tind, btData, yMax=6.5, alpha=2000)\n",
    "\n",
    "# plotElectrodeRawData(tind, btData, unifyRange=\"Raw\");\n",
    "\n",
    "\n",
    "measureDataPath = \".\\Data0329\"\n",
    "fileName = 'palpation-BA.btd.csv' \n",
    "btData = loadRawBioTac(measureDataPath, fileName)\n",
    "# examData(btData, tInstance=0, tRange=[5.5, 8])\n",
    "\n",
    "tind = np.arange(570, 675, 10)\n",
    "plotElectrodeRawData(tind, btData, unifyRange=\"Raw\");"
   ]
  },
  {
   "cell_type": "code",
   "execution_count": null,
   "id": "c67e97a5",
   "metadata": {
    "scrolled": false
   },
   "outputs": [],
   "source": [
    "'''---------------------------------------------------- Fabric ----------------------------------------------------'''\n",
    "# measureDataPath = \".\\Data2023.03.20\"\n",
    "# fileName = 'fabric.btd.csv' \n",
    "# btData = loadRawBioTac(measureDataPath, fileName)\n",
    "# tRange = [4.1, 7.3]\n",
    "# tRange=[12, 17]\n",
    "# examData(btData, tInstance=0, tRange=tRange)\n",
    "# tind = np.arange(430, 490, 6)\n",
    "# tind = np.arange(1470, 1540, 7)\n",
    "\n",
    "# measureDataPath = \".\\Data2023.03.22\"\n",
    "\n",
    "# fileName = 'fabric-B1.btd.csv' \n",
    "# # btData = loadRawBioTac(measureDataPath, fileName)\n",
    "# # examData(btData, tInstance=0, tRange=[4.5, 12])\n",
    "# # tind = np.arange(450, 585, 12)\n",
    "\n",
    "# fileName = 'fabric-B2.btd.csv' \n",
    "# btData = loadRawBioTac(measureDataPath, fileName)\n",
    "# # examData(btData, tInstance=0, tRange=[5.5, 12])\n",
    "# tind = np.arange(560, 635, 7)\n",
    "\n",
    "# # fig1, fig1cbar, fig2, ax1 = generateMapResult(tind, btData, yMax=8, alpha=2000)\n",
    "# plotElectrodeRawData(tind, btData, unifyRange=\"Raw\");\n",
    "\n",
    "measureDataPath = \".\\Data0329\"\n",
    "fileName = 'fabric-BA.btd.csv' \n",
    "btData = loadRawBioTac(measureDataPath, fileName)\n",
    "examData(btData, tInstance=0, tRange=[3.2, 6])\n",
    "\n",
    "tind = np.arange(340, 445, 10)\n",
    "plotElectrodeRawData(tind, btData, 0, \"Raw\");"
   ]
  },
  {
   "cell_type": "code",
   "execution_count": null,
   "id": "5129dda5",
   "metadata": {
    "scrolled": true
   },
   "outputs": [],
   "source": [
    "'''---------------------------------------------------- Selftouch ----------------------------------------------------'''\n",
    "measureDataPath = \".\\Data0329\"\n",
    "\n",
    "fileName = 'selftouch-BA1.btd.csv' \n",
    "btData = loadRawBioTac(measureDataPath, fileName)\n",
    "# examData(btData, tInstance=0, tRange=[6.2, 9])\n",
    "\n",
    "tind = np.arange(650, 725, 7)\n",
    "plotElectrodeRawData(tind, btData);\n",
    "\n",
    "fileName = 'selftouch-B1.btd.csv' \n",
    "btData = loadRawBioTac(measureDataPath, fileName)\n",
    "# examData(btData, tInstance=0, tRange=[6.2, 9])\n",
    "\n",
    "tind = np.arange(650, 725, 7)\n",
    "plotElectrodeRawData(tind, btData);\n",
    "\n",
    "fileName = 'selftouch-BA2.btd.csv' \n",
    "btData = loadRawBioTac(measureDataPath, fileName)\n",
    "# examData(btData, tInstance=0, tRange=[6.2, 9])\n",
    "\n",
    "tind = np.arange(630, 705, 7)\n",
    "plotElectrodeRawData(tind, btData);\n",
    "\n",
    "fileName = 'selftouch-B2.btd.csv' \n",
    "btData = loadRawBioTac(measureDataPath, fileName)\n",
    "# examData(btData, tInstance=0, tRange=[6.2, 9])\n",
    "\n",
    "tind = np.arange(630, 705, 7)\n",
    "plotElectrodeRawData(tind, btData);"
   ]
  },
  {
   "cell_type": "code",
   "execution_count": null,
   "id": "8975b9a6",
   "metadata": {},
   "outputs": [],
   "source": [
    "# print(\"Fs - pDC = %.1f +/- %.6f Hz\" % ( np.mean(1/np.diff(btData['t'])) , np.std(1/np.diff(btData['t'])) ))\n",
    "# print(\"Fs - pAC = %.1f +/- %.6f Hz\" % ( 1/np.mean(np.diff(btData['t2'])) , 1/np.std(np.diff(btData['t2'])) ))"
   ]
  },
  {
   "cell_type": "code",
   "execution_count": null,
   "id": "be9acecd",
   "metadata": {},
   "outputs": [],
   "source": [
    "measureDataPath2 = \".\\Data2022.06.26\""
   ]
  },
  {
   "cell_type": "code",
   "execution_count": null,
   "id": "66efb6b6",
   "metadata": {
    "scrolled": false
   },
   "outputs": [],
   "source": [
    "root = 'Act60mm1.5mL'; \n",
    "'''---------------------------------------------------- 1.2 sec ----------------------------------------------------'''\n",
    "fileName = 'v100c1200d4000t1.btd.csv' \n",
    "btData = loadRawBioTac(measureDataPath2, fileName, root)\n",
    "\n",
    "# tRange=[0, 32.0]\n",
    "# tRange=[1.5, 3.3]\n",
    "# examData(btData, tInstance=0, tRange=tRange)\n",
    "# examElectrodePattern(np.arange(200, 3000, 30), btData)\n",
    "\n",
    "# fig1, fig1cbar, fig2, ax1 = generateMapResult(np.arange(155, 325, 17), btData, yMax=6) # fig1, fig1cbar, fig2, ax1 = generateMapResult(tind, btData, yMax=5, reverseColorbar=False)\n",
    "\n",
    "# plotElectrodeRawData(np.arange(680, 855, 17), btData, 0, unifyRange=\"Raw\"); # plotElectrodeRawData(np.arange(155, 325, 17), btData, 0, unifyRange=\"Raw\");"
   ]
  },
  {
   "cell_type": "code",
   "execution_count": null,
   "id": "2ea8eef4",
   "metadata": {
    "scrolled": false
   },
   "outputs": [],
   "source": [
    "root = 'Act90mm1.8mL'; \n",
    "'''---------------------------------------------------- 1.2 sec ----------------------------------------------------'''\n",
    "fileName = 'v100c1200d4000t1.btd.csv' \n",
    "btData = loadRawBioTac(measureDataPath2, fileName, root)\n",
    "\n",
    "# examData(btData, tInstance=0)\n",
    "# examElectrodePattern(np.arange(200, 3000, 30), btData)\n",
    "\n",
    "# plotElectrodeRawData(np.arange(630, 805, 17), btData, 0, unifyRange=\"Raw\");"
   ]
  },
  {
   "cell_type": "code",
   "execution_count": null,
   "id": "6ebe04a3",
   "metadata": {
    "scrolled": false
   },
   "outputs": [],
   "source": [
    "root = 'Act60mm1.5mL'; \n",
    "'''---------------------------------------------------- 0.8 sec ----------------------------------------------------'''\n",
    "fileName = 'v100c800d4000t2.btd.csv' \n",
    "btData = loadRawBioTac(measureDataPath2, fileName, root)\n",
    "\n",
    "# examData(btData, tInstance=0)\n",
    "# examElectrodePattern(np.arange(200, 3000, 10), btData)\n",
    "\n",
    "# fig1, fig1cbar, fig2, ax1 = generateMapResult(np.arange(580, 705, 12), btData, yMax=5, reverseColorbar=False)\n",
    "# plotElectrodeRawData(np.arange(580, 705, 12), btData); #, unifyRange=[-52, 52]);\n",
    "# plotElectrodeRawData(np.arange(580, 705, 12), btData, 0, unifyRange=\"Raw\");"
   ]
  },
  {
   "cell_type": "code",
   "execution_count": null,
   "id": "e184dc5f",
   "metadata": {
    "scrolled": false
   },
   "outputs": [],
   "source": [
    "measureDataPath2 = \".\\Data2022.06.26\"\n",
    "\n",
    "root = 'Act90mm1.8mL'; \n",
    "'''---------------------------------------------------- 0.8 sec ----------------------------------------------------'''\n",
    "fileName = 'v100c800d4000t1.btd.csv' \n",
    "btData = loadRawBioTac(measureDataPath2, fileName, root)\n",
    "\n",
    "# examData(btData, tInstance=0, tRange=[6.2, 8])\n",
    "\n",
    "# plotElectrodeRawData(np.arange(620, 745, 12), btData); #, unifyRange=[-15, 25]\n",
    "# plotElectrodeRawData(np.arange(620, 745, 12), btData, 0, unifyRange=\"Raw\");"
   ]
  },
  {
   "cell_type": "code",
   "execution_count": null,
   "id": "18bbff8b",
   "metadata": {
    "scrolled": false
   },
   "outputs": [],
   "source": [
    "root = 'Act110mm1.8mL'; \n",
    "'''---------------------------------------------------- 0.8 sec ----------------------------------------------------'''\n",
    "fileName = 'v100c800d4000t1.btd.csv' \n",
    "btData = loadRawBioTac(measureDataPath2, fileName, root)\n",
    "\n",
    "# examData(btData, tInstance=0)\n",
    "\n",
    "# plotElectrodeRawData(np.arange(215, 340, 12), btData) #, unifyRange=[-15, 50]);\n",
    "\n",
    "# plotElectrodeRawData(np.arange(690, 815, 12), btData, 0, unifyRange=\"Raw\");"
   ]
  },
  {
   "cell_type": "code",
   "execution_count": null,
   "id": "424851a3",
   "metadata": {
    "scrolled": false
   },
   "outputs": [],
   "source": [
    "# root = 'Act110mm1.8mL'; \n",
    "# '''---------------------------------------------------- 1.2 sec ----------------------------------------------------'''\n",
    "# fileName = 'v100c1200d4000t1.btd.csv' \n",
    "# btData = loadRawBioTac(measureDataPath2, fileName, root)\n",
    "\n",
    "# examData(btData, tInstance=0)\n",
    "\n",
    "# tind = np.arange(170, 340, 17)\n",
    "# fig1, fig1cbar, fig2, ax1 = generateMapResult(tind, btData, yMax=5, reverseColorbar=False)"
   ]
  },
  {
   "cell_type": "code",
   "execution_count": null,
   "id": "502a8964",
   "metadata": {
    "scrolled": false
   },
   "outputs": [],
   "source": [
    " root = 'Act110mm1.8mL'; \n",
    "'''---------------------------------------------------- 0.4 sec ----------------------------------------------------'''\n",
    "# fileName = 'v100c400d4000t1.btd.csv' \n",
    "# btData = loadRawBioTac(measureDataPath2, fileName, root)\n",
    "\n",
    "# examData(btData, tInstance=0)\n",
    "# plotElectrodeRawData(np.arange(120, 200, 8), btData, 0, unifyRange=\"Raw\");"
   ]
  },
  {
   "cell_type": "code",
   "execution_count": null,
   "id": "e277a38d",
   "metadata": {
    "scrolled": false
   },
   "outputs": [],
   "source": [
    "measureDataPath2 = \".\\Data2022.06.26\"\n",
    "root = 'Act60mm1.5mL'; \n",
    "'''---------------------------------------------------- 0.4 sec ----------------------------------------------------'''\n",
    "fileName = 'v100c400d4000t1.btd.csv' \n",
    "btData = loadRawBioTac(measureDataPath2, fileName, root)\n",
    "\n",
    "# examData(btData, tInstance=0, tRange=[5.6, 7])\n",
    "\n",
    "# plotElectrodeRawData(np.arange(565, 638, 7), btData); #, unifyRange=[-15, 25]\n",
    "\n",
    "# plotElectrodeRawData(np.arange(565, 638, 7), btData, 0, unifyRange=\"Raw\");"
   ]
  },
  {
   "cell_type": "code",
   "execution_count": null,
   "id": "72c9dcbd",
   "metadata": {
    "scrolled": false
   },
   "outputs": [],
   "source": [
    "measureDataPath2 = \".\\Data2022.06.26\"\n",
    "root = 'Act60mm1.5mL'; \n",
    "'''--------------------------------------------- 2% voltage 1.2 sec ----------------------------------------------------'''\n",
    "fileName = 'v2c1200d4000t1.btd.csv' \n",
    "btData = loadRawBioTac(measureDataPath2, fileName, root)\n",
    "\n",
    "# examData(btData, tInstance=0, tRange=[0, 29])\n",
    "# examElectrodePattern(np.arange(200, 2900, 10), btData)\n",
    "\n",
    "# plotElectrodeRawData(np.arange(690, 855, 16), btData, 0, unifyRange=\"Raw\");"
   ]
  },
  {
   "cell_type": "code",
   "execution_count": null,
   "id": "a07b269d",
   "metadata": {},
   "outputs": [],
   "source": []
  }
 ],
 "metadata": {
  "kernelspec": {
   "display_name": "p39",
   "language": "python",
   "name": "p39"
  },
  "language_info": {
   "codemirror_mode": {
    "name": "ipython",
    "version": 3
   },
   "file_extension": ".py",
   "mimetype": "text/x-python",
   "name": "python",
   "nbconvert_exporter": "python",
   "pygments_lexer": "ipython3",
   "version": "3.9.12"
  }
 },
 "nbformat": 4,
 "nbformat_minor": 5
}
