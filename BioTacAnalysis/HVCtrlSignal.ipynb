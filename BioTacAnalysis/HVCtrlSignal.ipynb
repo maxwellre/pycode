{
 "cells": [
  {
   "cell_type": "code",
   "execution_count": null,
   "id": "433e5ecb",
   "metadata": {},
   "outputs": [],
   "source": [
    "'''\n",
    "Visualize control signal and voltage output of HV Controller\n",
    "Author: Yitian Shao\n",
    "Created on 2022.08.12\n",
    "'''\n",
    "\n",
    "from os import walk\n",
    "import os.path as ospa\n",
    "import numpy as np\n",
    "import re\n",
    "import matplotlib.pyplot as plt\n",
    "from matplotlib.pyplot import cm\n",
    "import pandas as pd\n",
    "from scipy import signal\n",
    "import seaborn as sns\n",
    "\n",
    "plt.rc('font', size=10, family='Verdana') # 'Tahoma', 'DejaVu Sans', 'Verdana'\"\n",
    "plt.rc('axes', edgecolor='0.5', linewidth=0.75)\n",
    "plt.rc('axes.spines', **{'bottom':True, 'left':True, 'right':False, 'top':False})\n",
    "plt.rcParams.update({'errorbar.capsize': 4})\n",
    "\n",
    "figSize_inch = (3.2, 2.4)"
   ]
  },
  {
   "cell_type": "code",
   "execution_count": null,
   "id": "277c1379",
   "metadata": {
    "scrolled": false
   },
   "outputs": [],
   "source": [
    "# PWMGain - 0 to 100% ( PWMGain = 255*voltageLevel/100 )\n",
    "# chargeDuration - 0.2 to 1.6 sec\n",
    "# dischargeDuration - 4.0 sec\n",
    "\n",
    "vLevels = [ 0,   2,   4,   8,  16,  32,  64, 100]\n",
    "\n",
    "cycleFs = 490 # Arduino PWM frequency = 490 Hz\n",
    "\n",
    "dispDuration = 0.1 # sec\n",
    "\n",
    "ax, fig1 = aPlot(figName='PWM Signal', dpi=300)\n",
    "\n",
    "cycleNum = 2\n",
    "\n",
    "labelStr = [\"%d%%\" % x for x in vLevels]\n",
    "\n",
    "pltHandles = []\n",
    "for voltageLevel in vLevels:\n",
    "    PWMGain = int(255*voltageLevel/100)\n",
    "    y = np.zeros((256,1))\n",
    "    y[1:PWMGain+1] = 1\n",
    "\n",
    "    y = np.tile(y, (cycleNum,1))\n",
    "\n",
    "#     samps = np.arange(y.shape[0])\n",
    "    t = np.linspace(0, cycleNum/cycleFs, y.shape[0]) * 1000 # ms\n",
    "\n",
    "    pltHandles.append(ax.plot(t, y)[0])\n",
    "\n",
    "ax.set_xlabel(\"Time (ms)\")\n",
    "ax.set_ylabel(\"Digital Signal\")\n",
    "ax.legend(handles=reversed(pltHandles), labels=reversed(labelStr), frameon=False, bbox_to_anchor=(1.02, 1.0), loc='upper left')\n",
    "\n",
    "fig1.savefig(\"PWMsignal.pdf\", bbox_inches='tight')"
   ]
  },
  {
   "cell_type": "code",
   "execution_count": null,
   "id": "40cb7b86",
   "metadata": {},
   "outputs": [],
   "source": [
    "'''\n",
    "General Functions\n",
    "'''\n",
    "\n",
    "def aPlot(figName='', is3D = False, dpi=72):\n",
    "    ax = []\n",
    "    \n",
    "    fig1 = plt.figure(figsize = (6,3), dpi=dpi)\n",
    "    \n",
    "    fig1.suptitle(figName, fontsize=16)\n",
    "    if(is3D):\n",
    "        ax = fig1.add_subplot(111, projection='3d')\n",
    "    else:\n",
    "        ax = fig1.add_subplot(111)\n",
    "        \n",
    "    return ax, fig1\n",
    "\n",
    "def yyAxisPlot(x0, y0, x1, y1, xText=None, y0Text=None, y1Text=None):\n",
    "    ax0, fig0 = aPlot(); \n",
    "    ax0.set_xlabel(xText)\n",
    "    ax0.plot(x0, y0, color='tab:orange'); \n",
    "    ax0.set_ylabel(y0Text, color='tab:orange')\n",
    "    ax0.tick_params(axis='y', labelcolor='tab:orange')\n",
    "\n",
    "    ax1 = ax0.twinx()\n",
    "    ax1.plot(x1, y1, color='tab:blue');\n",
    "    ax1.set_ylabel(y1Text, color='tab:blue')\n",
    "    ax1.tick_params(axis='y', labelcolor='tab:blue')\n",
    "    fig0.tight_layout() \n",
    "    \n",
    "def sample2Time(ax, Fs): # Covert the xticks of current plot from samples to time using Fs\n",
    "    locs, _ = plt.xticks()\n",
    "    plt.xticks(locs, locs/Fs)\n",
    "    ax.set_xlim(0, locs[-1])\n",
    "    ax.set_xlabel('Time (secs)')"
   ]
  },
  {
   "cell_type": "code",
   "execution_count": null,
   "id": "48a79149",
   "metadata": {},
   "outputs": [],
   "source": []
  }
 ],
 "metadata": {
  "kernelspec": {
<<<<<<< HEAD
   "display_name": "Python 3",
=======
   "display_name": "p39",
>>>>>>> 90da957 (Clear output to reduce file size)
   "language": "python",
   "name": "p39"
  },
  "language_info": {
   "codemirror_mode": {
    "name": "ipython",
    "version": 3
   },
   "file_extension": ".py",
   "mimetype": "text/x-python",
   "name": "python",
   "nbconvert_exporter": "python",
   "pygments_lexer": "ipython3",
   "version": "3.6.8"
  }
 },
 "nbformat": 4,
 "nbformat_minor": 5
}
